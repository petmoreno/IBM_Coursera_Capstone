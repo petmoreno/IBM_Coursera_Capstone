{
 "cells": [
  {
   "cell_type": "markdown",
   "metadata": {},
   "source": [
    "# Introduction\n"
   ]
  },
  {
   "cell_type": "markdown",
   "metadata": {},
   "source": [
    "A client is looking to open an Italian Restaurant (IR) in Toronto and he/she doesn't know where to open it although a neighborhood with no IR among their top venues is aimed.  Thus, by using the foursquare api we will explore the top5 most common venues in each neighborhood to see which neighborhood lacks from an Italian restaurant. To increase the chances of succeed in the business the target neighborhood should have closer neighborhood where an Italian Restaurant is in the most common venues."
   ]
  },
  {
   "cell_type": "markdown",
   "metadata": {},
   "source": [
    "# Data"
   ]
  },
  {
   "cell_type": "markdown",
   "metadata": {},
   "source": [
    "The data to be employed will be the list of the neighborhood of Toronto. A group per 150 venues whitin a radius of 800 m from the coordinates of the neighborhood will follow. Afterwards we will filter the top venues by restaurant, to focus only on food places. Since there will be a high number of neighborhoods, a cluster technique will be consider to reduce the dataset of top venues and decide the place to site our Italian Restaurant\n",
    "We will use the foursquare api to get the venues of the neighborhoods and its category to filter them by restaurant.\n",
    "\n",
    "The needed data at the begining will be:\n",
    "\n",
    "address: 'Toronto, Canada'\n",
    "latitude: 43.651070\n",
    "longitude:-79.347015\n",
    "\n",
    "radius:  800 (in meters) .\n",
    "\n",
    "Foursquare API variables\n",
    "CLIENT_ID = 'client_id' Foursquare ID\n",
    "CLIENT_SECRET = 'client_secret' Foursquare Secret key\n",
    "VERSION = '20180605' Foursquare API version\n",
    "LIMIT = 150  Limit of number of venues returned by Foursquare API\n",
    "\n",
    "From all the above data we'll then be able to collect a whole bunch of information by using the following URL and requesting Foursquare's information based on our query.\n",
    "\n",
    "url = 'https://api.foursquare.com/v2/venues/explore?&client_id={}&client_secret={}&v={}&ll={},{}&radius={}&limit={}'.format(\n",
    "  CLIENT_ID, \n",
    "  CLIENT_SECRET, \n",
    "  VERSION, \n",
    "  latitude, \n",
    "  longitude, \n",
    "  radius, \n",
    "  LIMIT)"
   ]
  },
  {
   "cell_type": "markdown",
   "metadata": {},
   "source": [
    "# Methodology"
   ]
  },
  {
   "cell_type": "markdown",
   "metadata": {},
   "source": [
    "# Results"
   ]
  },
  {
   "cell_type": "markdown",
   "metadata": {},
   "source": [
    "# Discussion"
   ]
  },
  {
   "cell_type": "markdown",
   "metadata": {},
   "source": [
    "# Conclusion"
   ]
  },
  {
   "cell_type": "code",
   "execution_count": null,
   "metadata": {},
   "outputs": [],
   "source": []
  }
 ],
 "metadata": {
  "kernelspec": {
   "display_name": "Python 3",
   "language": "python",
   "name": "python3"
  },
  "language_info": {
   "codemirror_mode": {
    "name": "ipython",
    "version": 3
   },
   "file_extension": ".py",
   "mimetype": "text/x-python",
   "name": "python",
   "nbconvert_exporter": "python",
   "pygments_lexer": "ipython3",
   "version": "3.7.3"
  }
 },
 "nbformat": 4,
 "nbformat_minor": 2
}
