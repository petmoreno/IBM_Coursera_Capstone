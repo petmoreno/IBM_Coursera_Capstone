{
 "cells": [
  {
   "cell_type": "markdown",
   "metadata": {},
   "source": [
    "# Introduction\n"
   ]
  },
  {
   "cell_type": "markdown",
   "metadata": {},
   "source": [
    "A friend of mine is thinking about opening an Italian Restaurant (IR) in Chicago. She doesn't know where to open it and ask me for help to explore in which Toronto's neighborhood the venue will have more chances of succedding. Thus, by using the foursquare api we will explore the top5 most common venues in each neighborhood to see which neighborhood lacks from an Italian restaurant and has close neighborhod where an Italian Restaurant is in the most common venues. This assumption is based on if a neighborhood lacks from a IR and its closer neighborhoods have their IR as top venues, our Restaurant will succeed."
   ]
  },
  {
   "cell_type": "markdown",
   "metadata": {},
   "source": [
    "# Data"
   ]
  },
  {
   "cell_type": "markdown",
   "metadata": {},
   "source": [
    "The data to be employed will be the list of the neighborhood of Toronto employed in week 3 exercise of the Capstone Project. In addition the lat and long for each neighborhood will be attach to the main data frame.\n",
    "We will use the foursquare api to get the venues of the neighborhoods and its category to filter them by restaurant."
   ]
  },
  {
   "cell_type": "markdown",
   "metadata": {},
   "source": [
    "# Methodology"
   ]
  },
  {
   "cell_type": "markdown",
   "metadata": {},
   "source": [
    "# Results"
   ]
  },
  {
   "cell_type": "markdown",
   "metadata": {},
   "source": [
    "# Discussion"
   ]
  },
  {
   "cell_type": "markdown",
   "metadata": {},
   "source": [
    "# Conclusion"
   ]
  },
  {
   "cell_type": "code",
   "execution_count": null,
   "metadata": {},
   "outputs": [],
   "source": []
  }
 ],
 "metadata": {
  "kernelspec": {
   "display_name": "Python 3",
   "language": "python",
   "name": "python3"
  },
  "language_info": {
   "codemirror_mode": {
    "name": "ipython",
    "version": 3
   },
   "file_extension": ".py",
   "mimetype": "text/x-python",
   "name": "python",
   "nbconvert_exporter": "python",
   "pygments_lexer": "ipython3",
   "version": "3.7.3"
  }
 },
 "nbformat": 4,
 "nbformat_minor": 2
}
